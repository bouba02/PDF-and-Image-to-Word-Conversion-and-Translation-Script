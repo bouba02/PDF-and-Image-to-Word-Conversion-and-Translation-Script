{
 "cells": [
  {
   "cell_type": "markdown",
   "id": "ec2180e0",
   "metadata": {},
   "source": [
    "# Automatiser la Conversion de PDF et d'Images en Document Word et Traduction avec Python\n",
    "\n",
    "Dans le monde dynamique du traitement de données et de la gestion de documents, l'automatisation est essentielle. Si vous avez souvent besoin de convertir des fichiers PDF et des images en documents Word et de traduire le contenu dans une autre langue, ce guide est fait pour vous. \n",
    "\n",
    "Dans ce code, je  vous présenterai un script Python qui automatise la conversion de fichiers PDF et d'images en documents Word, puis traduit le contenu de l'anglais vers le français en utilisant Tesseract OCR, PDF2Image et Google Translate.\n"
   ]
  },
  {
   "cell_type": "markdown",
   "id": "533be53a",
   "metadata": {},
   "source": [
    "## Étapes pour la Conversion avec Tesseract sur macOS : \n",
    "- Pour plus d'autres systemes d'exploitation(windows,ubuntu,linux,etc), veuillez consulter le site officiel pour l'instalation de Tesseract: https://tesseract-ocr.github.io/tessdoc/Installation.html\n",
    "\n",
    "### 1- Installer Homebrew\n",
    "Si vous ne l'avez pas encore installé, Homebrew est un gestionnaire de paquets pour macOS. Ouvrez Terminal et exécutez :"
   ]
  },
  {
   "cell_type": "code",
   "execution_count": null,
   "id": "3f874f1a",
   "metadata": {},
   "outputs": [],
   "source": [
    "/bin/bash -c \"$(curl -fsSL https://raw.githubusercontent.com/Homebrew/install/HEAD/install.sh)\"\n"
   ]
  },
  {
   "cell_type": "markdown",
   "id": "178d3510",
   "metadata": {},
   "source": [
    "## 2-Installer Tesseract\n",
    "Une fois Homebrew installé, vous pouvez installer Tesseract et Poppler en exécutant :\n"
   ]
  },
  {
   "cell_type": "code",
   "execution_count": null,
   "id": "798d771e",
   "metadata": {},
   "outputs": [],
   "source": [
    "brew install tesseract\n"
   ]
  },
  {
   "cell_type": "code",
   "execution_count": null,
   "id": "f35ea959",
   "metadata": {},
   "outputs": [],
   "source": [
    "brew install poppler\n"
   ]
  },
  {
   "cell_type": "markdown",
   "id": "65a36129",
   "metadata": {},
   "source": [
    "## 3- Installer les bibliothèques Python nécessaires\n",
    "Vous aurez besoin de <i>pytesseract, Pillow, python-docx et pdf2image </i> :"
   ]
  },
  {
   "cell_type": "code",
   "execution_count": null,
   "id": "7c0dd37f",
   "metadata": {},
   "outputs": [],
   "source": [
    "pip install pytesseract pillow python-docx pdf2image\n"
   ]
  },
  {
   "cell_type": "markdown",
   "id": "45a33663",
   "metadata": {},
   "source": [
    "## 4- Script Python pour la Conversion d'une image en document word\n",
    "Créez un fichier nommé <b>convertir_image_en_doc.py</b> et copiez le code suivant ou vous pouvez travailler directement sur JupyterNotebook :"
   ]
  },
  {
   "cell_type": "code",
   "execution_count": 2,
   "id": "f10d8ce4",
   "metadata": {},
   "outputs": [],
   "source": [
    "import pytesseract\n",
    "from PIL import Image\n",
    "from docx import Document\n",
    "\n",
    "# Définir le chemin de Tesseract (nécessaire surtout pour Windows)\n",
    "#pytesseract.pytesseract.tesseract_cmd = r'C:\\Program Files\\Tesseract-OCR\\tesseract.exe' # Remplacez par le chemin correct\n",
    "\n",
    "# Chemin de l'image\n",
    "image_path = 'image.jpeg'\n",
    "\n",
    "# Charger l'image\n",
    "image = Image.open(image_path)\n",
    "\n",
    "# Utiliser pytesseract pour extraire le texte\n",
    "texte = pytesseract.image_to_string(image)\n",
    "\n",
    "# Créer un nouveau document\n",
    "document = Document()\n",
    "\n",
    "# Ajouter le texte extrait au document\n",
    "document.add_paragraph(texte)\n",
    "\n",
    "# Enregistrer le document\n",
    "document.save('document.docx')\n"
   ]
  },
  {
   "cell_type": "markdown",
   "id": "f3af6da3",
   "metadata": {},
   "source": [
    "## 5- Script Python pour la Conversion d'un PDF en document Word."
   ]
  },
  {
   "cell_type": "code",
   "execution_count": 23,
   "id": "09ecde58",
   "metadata": {},
   "outputs": [],
   "source": [
    "import pytesseract\n",
    "from PIL import Image\n",
    "from docx import Document\n",
    "from pdf2image import convert_from_path\n",
    "\n",
    "# Chemin du fichier PDF\n",
    "pdf_path = 'doc.pdf'\n",
    "\n",
    "# Convertir les pages du PDF en images\n",
    "pages = convert_from_path(pdf_path)\n",
    "\n",
    "# Créer un nouveau document Word\n",
    "document = Document()\n",
    "\n",
    "# Parcourir chaque page convertie en image\n",
    "for page_number, page in enumerate(pages):\n",
    "    # Utiliser pytesseract pour extraire le texte de l'image\n",
    "    texte = pytesseract.image_to_string(page)\n",
    "    \n",
    "    # Ajouter une indication de page dans le document Word\n",
    "    document.add_paragraph(f'Page {page_number + 1}')\n",
    "    \n",
    "    # Ajouter le texte extrait au document Word\n",
    "    document.add_paragraph(texte)\n",
    "\n",
    "# Enregistrer le document Word\n",
    "document.save('news.docx')\n"
   ]
  },
  {
   "cell_type": "markdown",
   "id": "3fed23b9",
   "metadata": {},
   "source": [
    "## 6- Script Python pour la Conversion d'un PDF en document Word et traduction"
   ]
  },
  {
   "cell_type": "code",
   "execution_count": 8,
   "id": "cde12b98",
   "metadata": {},
   "outputs": [],
   "source": [
    "import pytesseract\n",
    "from PIL import Image\n",
    "from docx import Document\n",
    "from pdf2image import convert_from_path\n",
    "from googletrans import Translator\n",
    "\n",
    "# Chemin du fichier PDF\n",
    "pdf_path = 'transperfect.pdf'\n",
    "\n",
    "# Convertir les pages du PDF en images\n",
    "pages = convert_from_path(pdf_path)\n",
    "\n",
    "# Créer un nouveau document Word\n",
    "document = Document()\n",
    "\n",
    "# Initialiser le traducteur\n",
    "translator = Translator()\n",
    "\n",
    "# Parcourir chaque page convertie en image\n",
    "for page_number, page in enumerate(pages):\n",
    "    # Utiliser pytesseract pour extraire le texte de l'image\n",
    "    texte = pytesseract.image_to_string(page, lang='eng')  # Préciser la langue ici si nécessaire\n",
    "    \n",
    "    # Traduire le texte extrait en français\n",
    "    texte_traduit = translator.translate(texte, src='en', dest='fr').text\n",
    "    \n",
    "    # Ajouter une indication de page dans le document Word\n",
    "    document.add_paragraph(f'Page {page_number + 1}')\n",
    "    \n",
    "    # Ajouter le texte traduit au document Word\n",
    "    document.add_paragraph(texte_traduit)\n",
    "\n",
    "# Enregistrer le document Word\n",
    "document.save('transperfect.docx')\n"
   ]
  },
  {
   "cell_type": "markdown",
   "id": "296ba091",
   "metadata": {},
   "source": [
    "## 6- Exécution du Script\n",
    "Dans Terminal, exécutez le  :"
   ]
  },
  {
   "cell_type": "code",
   "execution_count": null,
   "id": "80791d47",
   "metadata": {},
   "outputs": [],
   "source": [
    "python convertir_image_en_doc.py\n"
   ]
  },
  {
   "cell_type": "markdown",
   "id": "e08500dd",
   "metadata": {},
   "source": [
    "Ce script lit l'image, extrait le texte avec Tesseract, et crée un document Word contenant ce texte. Le fichier sera enregistré sous le nom document_modifiable.docx.\n",
    "\n",
    "<b>Pourquoi c'est Important ?</b>\n",
    "\n",
    "Transformer des documents scannés ou des images en fichiers Word modifiables permet de :\n",
    "\n",
    "<li><b>Faciliter l'édition et la mise à jour :</b> Gagnez du temps en modifiant directement le contenu sans avoir à le retaper.\n",
    "    \n",
    "<li><b>Rendre les documents accessibles et exploitables :</b> Accédez facilement aux informations, effectuez des recherches rapides et extrayez les données nécessaires.\n",
    "    \n",
    "<li><b>Améliorer l'efficacité et la productivité :</b> Automatisez des tâches répétitives et concentrez-vous sur des activités à plus forte valeur ajoutée.\n",
    "    \n",
    "   J'espère que vous trouverez cette technique utile. N'hésitez pas à me contacter si vous avez des questions ou des commentaires !\n",
    "\n",
    "Nikiema Boubacar \n",
    "Email: nikiemaboubacar@gmail.com"
   ]
  },
  {
   "cell_type": "code",
   "execution_count": null,
   "id": "c237e5a5",
   "metadata": {},
   "outputs": [],
   "source": []
  },
  {
   "cell_type": "code",
   "execution_count": null,
   "id": "60d636fe",
   "metadata": {},
   "outputs": [],
   "source": []
  }
 ],
 "metadata": {
  "kernelspec": {
   "display_name": "Python 3 (ipykernel)",
   "language": "python",
   "name": "python3"
  },
  "language_info": {
   "codemirror_mode": {
    "name": "ipython",
    "version": 3
   },
   "file_extension": ".py",
   "mimetype": "text/x-python",
   "name": "python",
   "nbconvert_exporter": "python",
   "pygments_lexer": "ipython3",
   "version": "3.11.5"
  }
 },
 "nbformat": 4,
 "nbformat_minor": 5
}
